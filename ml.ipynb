{
 "cells": [
  {
   "cell_type": "code",
   "execution_count": 120,
   "metadata": {},
   "outputs": [],
   "source": [
    "import pandas as pd\n",
    "from sklearn.feature_extraction.text import CountVectorizer\n",
    "from sklearn.metrics.pairwise import cosine_similarity\n",
    "import pickle"
   ]
  },
  {
   "cell_type": "code",
   "execution_count": 121,
   "metadata": {},
   "outputs": [
    {
     "data": {
      "text/html": [
       "<div>\n",
       "<style scoped>\n",
       "    .dataframe tbody tr th:only-of-type {\n",
       "        vertical-align: middle;\n",
       "    }\n",
       "\n",
       "    .dataframe tbody tr th {\n",
       "        vertical-align: top;\n",
       "    }\n",
       "\n",
       "    .dataframe thead th {\n",
       "        text-align: right;\n",
       "    }\n",
       "</style>\n",
       "<table border=\"1\" class=\"dataframe\">\n",
       "  <thead>\n",
       "    <tr style=\"text-align: right;\">\n",
       "      <th></th>\n",
       "      <th>id</th>\n",
       "      <th>title</th>\n",
       "      <th>overview</th>\n",
       "      <th>genre</th>\n",
       "    </tr>\n",
       "  </thead>\n",
       "  <tbody>\n",
       "    <tr>\n",
       "      <th>0</th>\n",
       "      <td>278</td>\n",
       "      <td>The Shawshank Redemption</td>\n",
       "      <td>Framed in the 1940s for the double murder of h...</td>\n",
       "      <td>Drama,Crime</td>\n",
       "    </tr>\n",
       "    <tr>\n",
       "      <th>1</th>\n",
       "      <td>19404</td>\n",
       "      <td>Dilwale Dulhania Le Jayenge</td>\n",
       "      <td>Raj is a rich, carefree, happy-go-lucky second...</td>\n",
       "      <td>Comedy,Drama,Romance</td>\n",
       "    </tr>\n",
       "    <tr>\n",
       "      <th>2</th>\n",
       "      <td>238</td>\n",
       "      <td>The Godfather</td>\n",
       "      <td>Spanning the years 1945 to 1955, a chronicle o...</td>\n",
       "      <td>Drama,Crime</td>\n",
       "    </tr>\n",
       "    <tr>\n",
       "      <th>3</th>\n",
       "      <td>424</td>\n",
       "      <td>Schindler's List</td>\n",
       "      <td>The true story of how businessman Oskar Schind...</td>\n",
       "      <td>Drama,History,War</td>\n",
       "    </tr>\n",
       "    <tr>\n",
       "      <th>4</th>\n",
       "      <td>240</td>\n",
       "      <td>The Godfather: Part II</td>\n",
       "      <td>In the continuing saga of the Corleone crime f...</td>\n",
       "      <td>Drama,Crime</td>\n",
       "    </tr>\n",
       "    <tr>\n",
       "      <th>...</th>\n",
       "      <td>...</td>\n",
       "      <td>...</td>\n",
       "      <td>...</td>\n",
       "      <td>...</td>\n",
       "    </tr>\n",
       "    <tr>\n",
       "      <th>9995</th>\n",
       "      <td>10196</td>\n",
       "      <td>The Last Airbender</td>\n",
       "      <td>The story follows the adventures of Aang, a yo...</td>\n",
       "      <td>Action,Adventure,Fantasy</td>\n",
       "    </tr>\n",
       "    <tr>\n",
       "      <th>9996</th>\n",
       "      <td>331446</td>\n",
       "      <td>Sharknado 3: Oh Hell No!</td>\n",
       "      <td>The sharks take bite out of the East Coast whe...</td>\n",
       "      <td>Action,TV Movie,Science Fiction,Comedy,Adventure</td>\n",
       "    </tr>\n",
       "    <tr>\n",
       "      <th>9997</th>\n",
       "      <td>13995</td>\n",
       "      <td>Captain America</td>\n",
       "      <td>During World War II, a brave, patriotic Americ...</td>\n",
       "      <td>Action,Science Fiction,War</td>\n",
       "    </tr>\n",
       "    <tr>\n",
       "      <th>9998</th>\n",
       "      <td>2312</td>\n",
       "      <td>In the Name of the King: A Dungeon Siege Tale</td>\n",
       "      <td>A man named Farmer sets out to rescue his kidn...</td>\n",
       "      <td>Adventure,Fantasy,Action,Drama</td>\n",
       "    </tr>\n",
       "    <tr>\n",
       "      <th>9999</th>\n",
       "      <td>455957</td>\n",
       "      <td>Domino</td>\n",
       "      <td>Seeking justice for his partner’s murder by an...</td>\n",
       "      <td>Thriller,Action,Crime</td>\n",
       "    </tr>\n",
       "  </tbody>\n",
       "</table>\n",
       "<p>10000 rows × 4 columns</p>\n",
       "</div>"
      ],
      "text/plain": [
       "          id                                          title  \\\n",
       "0        278                       The Shawshank Redemption   \n",
       "1      19404                    Dilwale Dulhania Le Jayenge   \n",
       "2        238                                  The Godfather   \n",
       "3        424                               Schindler's List   \n",
       "4        240                         The Godfather: Part II   \n",
       "...      ...                                            ...   \n",
       "9995   10196                             The Last Airbender   \n",
       "9996  331446                       Sharknado 3: Oh Hell No!   \n",
       "9997   13995                                Captain America   \n",
       "9998    2312  In the Name of the King: A Dungeon Siege Tale   \n",
       "9999  455957                                         Domino   \n",
       "\n",
       "                                               overview  \\\n",
       "0     Framed in the 1940s for the double murder of h...   \n",
       "1     Raj is a rich, carefree, happy-go-lucky second...   \n",
       "2     Spanning the years 1945 to 1955, a chronicle o...   \n",
       "3     The true story of how businessman Oskar Schind...   \n",
       "4     In the continuing saga of the Corleone crime f...   \n",
       "...                                                 ...   \n",
       "9995  The story follows the adventures of Aang, a yo...   \n",
       "9996  The sharks take bite out of the East Coast whe...   \n",
       "9997  During World War II, a brave, patriotic Americ...   \n",
       "9998  A man named Farmer sets out to rescue his kidn...   \n",
       "9999  Seeking justice for his partner’s murder by an...   \n",
       "\n",
       "                                                 genre  \n",
       "0                                          Drama,Crime  \n",
       "1                                 Comedy,Drama,Romance  \n",
       "2                                          Drama,Crime  \n",
       "3                                    Drama,History,War  \n",
       "4                                          Drama,Crime  \n",
       "...                                                ...  \n",
       "9995                          Action,Adventure,Fantasy  \n",
       "9996  Action,TV Movie,Science Fiction,Comedy,Adventure  \n",
       "9997                        Action,Science Fiction,War  \n",
       "9998                    Adventure,Fantasy,Action,Drama  \n",
       "9999                             Thriller,Action,Crime  \n",
       "\n",
       "[10000 rows x 4 columns]"
      ]
     },
     "execution_count": 121,
     "metadata": {},
     "output_type": "execute_result"
    }
   ],
   "source": [
    "# Load the dataset\n",
    "movies = pd.read_csv('dataset.csv')\n",
    "movies = movies[['id', 'title', 'overview', 'genre']]\n",
    "movies"
   ]
  },
  {
   "cell_type": "code",
   "execution_count": 122,
   "metadata": {},
   "outputs": [],
   "source": [
    "# Drop the 'overview' column\n",
    "new_data = movies.drop(columns=['overview'])"
   ]
  },
  {
   "cell_type": "code",
   "execution_count": 123,
   "metadata": {},
   "outputs": [],
   "source": [
    "# Vectorize the 'genre' column\n",
    "cv = CountVectorizer(max_features=10000, stop_words='english')\n",
    "vector = cv.fit_transform(new_data['genre'].values.astype('U')).toarray()"
   ]
  },
  {
   "cell_type": "code",
   "execution_count": 124,
   "metadata": {},
   "outputs": [],
   "source": [
    "# Compute the cosine similarity\n",
    "similarity = cosine_similarity(vector)"
   ]
  },
  {
   "cell_type": "code",
   "execution_count": 125,
   "metadata": {},
   "outputs": [],
   "source": [
    "# Function to recommend movies by genre\n",
    "def recommend_by_genre(genre, top_n=5):\n",
    "    # Filter movies matching the given genre\n",
    "    genre_movies = new_data[new_data['genre'].str.contains(genre, case=False, na=False)]\n",
    "    \n",
    "    if genre_movies.empty:\n",
    "        print(f\"No movies found for the genre: {genre}\")\n",
    "        return\n",
    "    \n",
    "    # Store recommendations\n",
    "    recommended_movies = []\n",
    "    \n",
    "    print(f\"Top {top_n} recommendations for genre: {genre}\")\n",
    "    for index, row in genre_movies.iterrows():\n",
    "        movie_index = row.name  # Get the movie index in the dataset\n",
    "        distances = list(enumerate(similarity[movie_index]))\n",
    "        distances = sorted(distances, reverse=True, key=lambda x: x[1])[1:]  # Skip the movie itself\n",
    "        \n",
    "        # Add the top similar movies\n",
    "        for i in distances:\n",
    "            movie_title = new_data.iloc[i[0]]['title']\n",
    "            if movie_title not in recommended_movies:  # Avoid duplicates\n",
    "                recommended_movies.append(movie_title)\n",
    "            if len(recommended_movies) >= top_n:  # Stop when top_n is reached\n",
    "                break\n",
    "        if len(recommended_movies) >= top_n:\n",
    "            break\n",
    "\n",
    "    # Print the recommendations\n",
    "    for idx, movie in enumerate(recommended_movies[:top_n], 1):\n",
    "        print(f\"{idx}: {movie}\")"
   ]
  },
  {
   "cell_type": "code",
   "execution_count": 126,
   "metadata": {},
   "outputs": [
    {
     "name": "stdout",
     "output_type": "stream",
     "text": [
      "Top 5 recommendations for genre: Adventure\n",
      "1: The Lord of the Rings: The Fellowship of the Ring\n",
      "2: The Lord of the Rings: The Two Towers\n",
      "3: Pirates of the Caribbean: The Curse of the Black Pearl\n",
      "4: Shang-Chi and the Legend of the Ten Rings\n",
      "5: The Hobbit: The Desolation of Smaug\n"
     ]
    }
   ],
   "source": [
    "recommend_by_genre(\"Adventure\", top_n=5)"
   ]
  },
  {
   "cell_type": "code",
   "execution_count": 127,
   "metadata": {},
   "outputs": [],
   "source": [
    "pickle.dump(similarity, open('similarity.pkl', 'wb'))\n",
    "pickle.dump(new_data, open('movies_list.pkl', 'wb'))"
   ]
  }
 ],
 "metadata": {
  "kernelspec": {
   "display_name": "Python 3",
   "language": "python",
   "name": "python3"
  },
  "language_info": {
   "codemirror_mode": {
    "name": "ipython",
    "version": 3
   },
   "file_extension": ".py",
   "mimetype": "text/x-python",
   "name": "python",
   "nbconvert_exporter": "python",
   "pygments_lexer": "ipython3",
   "version": "3.12.3"
  }
 },
 "nbformat": 4,
 "nbformat_minor": 2
}
